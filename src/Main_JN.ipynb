{
 "cells": [
  {
   "cell_type": "code",
   "execution_count": null,
   "metadata": {},
   "outputs": [],
   "source": [
    "import json\n",
    "import requests\n",
    "import pandas as pd\n",
    "\n",
    "def main():\n",
    "    url = \"https://opendata.ecdc.europa.eu/covid19/casedistribution/json\"\n",
    "\n",
    "    resp = requests.get(url=url)\n",
    "    data = resp.json()  # Ch\n",
    "    # data = json.load(open(\"../data/corona-cases.json\", 'r'))\n",
    "    \n",
    "    coro_nary = {}  # create corona dictionary\n",
    "    df_corona = pd.DataFrame(columns = ['country','population','cases','deaths','cases_pmc','deaths_pmc'])\n",
    "    df_corona.index = df_corona['country']\n",
    "    \n",
    "    \n",
    "    # copy relevant data into corona dictionary:\n",
    "    for record in data[\"records\"]:\n",
    "        countryname = record[\"countriesAndTerritories\"]  # store the name in a variable\n",
    "        if not record[\"popData2018\"] == \"\":  # check if population is empty\n",
    "            if not (countryname in df_corona.index):  # the the country does not exist in DataFrame\n",
    "                df_corona.at[countryname, 'country'] = countryname # Create DataFrame row\n",
    "                df_corona.cases[countryname] = int(record[\"cases\"])  # make a \"cases\" key for the country entry\n",
    "                df_corona.deaths[countryname] = int(record[\"deaths\"])  # make a \"deaths\" key for the country dictionary\n",
    "                df_corona.population[countryname] = int(record[\"popData2018\"])  # if not record[\"popData2018\"] == \"\" else 0\n",
    "            else:  # if the country exists in the dictionary\n",
    "                df_corona.cases[countryname] += int(record[\"cases\"])  # add the number of cases'''\n",
    "                df_corona.deaths[countryname] += int(record[\"deaths\"])  # add the number of deaths'''\n",
    "    \n",
    "    # Calculate cases and deaths per million capita\n",
    "    for country in df_corona.index: # Loop through all countries in DataFrame\n",
    "        #Calculate cases per million capita and save it in respective entry:\n",
    "        df_corona.cases_pmc[country] = (10 ** 6) * df_corona.cases[country] / df_corona.population[country]\n",
    "        #Calculate deaths per million capita and save it in respective entry:\n",
    "        df_corona.deaths_pmc[country] = (10 ** 6) * df_corona.deaths[country] / df_corona.population[country]\n",
    "    \n",
    "    print(df_corona)\n",
    "    \n",
    "\n",
    "\n",
    "def print_dict(dict) -> None:\n",
    "    i = 1\n",
    "    for x in dict:  # print corona dictionary\n",
    "        print(\n",
    "            \"{}) {}: \\t\\t {} cases, \\t {} deaths, \\t {} population, \\t {:.2f} cases per million capita, \\t {:.2f} deaths per million capita\"\n",
    "                .format(\n",
    "                i,\n",
    "                x, dict[x][\"cases\"],\n",
    "                dict[x][\"deaths\"],\n",
    "                dict[x][\"population\"],\n",
    "                dict[x][\"cases_pmc\"],\n",
    "                dict[x][\"deaths_pmc\"]\n",
    "            ))\n",
    "        i += 1\n",
    "\n",
    "\n",
    "def print2json(dict):\n",
    "    with open(\"../data/dataPerCapita.json\", 'w', encoding='utf-8') as f:\n",
    "        json.dump(dict, f, ensure_ascii=False, indent=4)\n",
    "\n",
    "\n",
    "if __name__ == \"__main__\":\n",
    "    main()\n"
   ]
  },
  {
   "cell_type": "code",
   "execution_count": 45,
   "metadata": {},
   "outputs": [
    {
     "ename": "NameError",
     "evalue": "name 'df_corona' is not defined",
     "output_type": "error",
     "traceback": [
      "\u001b[1;31m---------------------------------------------------------------------------\u001b[0m",
      "\u001b[1;31mNameError\u001b[0m                                 Traceback (most recent call last)",
      "\u001b[1;32m<ipython-input-45-87376b2abb77>\u001b[0m in \u001b[0;36m<module>\u001b[1;34m\u001b[0m\n\u001b[0;32m      1\u001b[0m \u001b[1;31m#Print Countries by highest cases per million capita\u001b[0m\u001b[1;33m\u001b[0m\u001b[1;33m\u001b[0m\u001b[1;33m\u001b[0m\u001b[0m\n\u001b[1;32m----> 2\u001b[1;33m \u001b[0mdf_corona\u001b[0m\u001b[1;33m.\u001b[0m\u001b[0mindex\u001b[0m \u001b[1;33m=\u001b[0m \u001b[0mdf_corona\u001b[0m\u001b[1;33m.\u001b[0m\u001b[0mcases_pmc\u001b[0m\u001b[1;33m\u001b[0m\u001b[1;33m\u001b[0m\u001b[0m\n\u001b[0m\u001b[0;32m      3\u001b[0m \u001b[0mdf_corona\u001b[0m\u001b[1;33m\u001b[0m\u001b[1;33m\u001b[0m\u001b[0m\n",
      "\u001b[1;31mNameError\u001b[0m: name 'df_corona' is not defined"
     ]
    }
   ],
   "source": [
    "#Print Countries by highest cases per million capita\n",
    "df_corona.index = df_corona.cases_pmc\n",
    "df_corona"
   ]
  },
  {
   "cell_type": "code",
   "execution_count": null,
   "metadata": {},
   "outputs": [],
   "source": []
  }
 ],
 "metadata": {
  "kernelspec": {
   "display_name": "Python 3",
   "language": "python",
   "name": "python3"
  },
  "language_info": {
   "codemirror_mode": {
    "name": "ipython",
    "version": 3
   },
   "file_extension": ".py",
   "mimetype": "text/x-python",
   "name": "python",
   "nbconvert_exporter": "python",
   "pygments_lexer": "ipython3",
   "version": "3.7.6"
  }
 },
 "nbformat": 4,
 "nbformat_minor": 4
}
