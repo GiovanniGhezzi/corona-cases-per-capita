{
 "cells": [
  {
   "cell_type": "code",
   "execution_count": 13,
   "metadata": {},
   "outputs": [
    {
     "name": "stdout",
     "output_type": "stream",
     "text": [
      "Empty DataFrame\n",
      "Columns: [country, population, cases, deaths, cases_pmc, deaths_pmc]\n",
      "Index: []\n"
     ]
    }
   ],
   "source": [
    "import json\n",
    "import requests\n",
    "import pandas as pd\n",
    "\n",
    "def main():\n",
    "    url = \"https://opendata.ecdc.europa.eu/covid19/casedistribution/json\"\n",
    "\n",
    "    resp = requests.get(url=url)\n",
    "    data = resp.json()  # Ch\n",
    "    # data = json.load(open(\"../data/corona-cases.json\", 'r'))\n",
    "    \n",
    "    coro_nary = {}  # create corona dictionary\n",
    "    df_corona = pd.DataFrame(columns = ['country','population','cases','deaths','cases_pmc','deaths_pmc'])\n",
    "    df_corona.index = df_corona['country']\n",
    "    print(df_corona)\n",
    "    \n",
    "    \n",
    "    # copy relevant data into corona dictionary:\n",
    "    for record in data[\"records\"]:\n",
    "        countryname = record[\"countriesAndTerritories\"]  # store the name in a variable\n",
    "        if not record[\"popData2018\"] == \"\":  # check if population is empty\n",
    "            if not (countryname in coro_nary):  # the the country does not exist as a key in the dictionary\n",
    "                coro_nary[countryname] = dict()  # make dictionary under the country name\n",
    "                coro_nary[countryname][\"cases\"] = int(record[\"cases\"])  # make a \"cases\" key for the country dictionary\n",
    "                coro_nary[countryname][\"deaths\"] = int(\n",
    "                    record[\"deaths\"])  # make a \"deaths\" key for the country dictionary\n",
    "                coro_nary[countryname][\"population\"] = int(\n",
    "                    record[\"popData2018\"])  # if not record[\"popData2018\"] == \"\" else 0\n",
    "            else:  # if the country exists in the dictionary\n",
    "                coro_nary[countryname][\"cases\"] += int(record[\"cases\"])  # add the number of cases'''\n",
    "                coro_nary[countryname][\"deaths\"] += int(record[\"deaths\"])  # add the number of deaths'''\n",
    "\n",
    "    for country in coro_nary:\n",
    "        coro_nary[country][\"cases_pmc\"] = (10 ** 6) * coro_nary[country][\"cases\"] / coro_nary[country][\"population\"]\n",
    "        coro_nary[country][\"deaths_pmc\"] = (10 ** 6) * coro_nary[country][\"deaths\"] / coro_nary[country][\"population\"]\n",
    "\n",
    "#     print_dict(coro_nary)\n",
    "    \n",
    "    #df_corona = pd.DataFrame (data, columns = ['First Column Name','Second Column Name',...])\n",
    "\n",
    "    sorted_dict = {k: v for k, v in sorted(coro_nary.items(), key=lambda x: x[1][\"deaths_pmc\"], reverse=True)}\n",
    "#     print_dict(sorted_dict)\n",
    "\n",
    "#     print2json(sorted_dict)\n",
    "\n",
    "\n",
    "def print_dict(dict) -> None:\n",
    "    i = 1\n",
    "    for x in dict:  # print corona dictionary\n",
    "        print(\n",
    "            \"{}) {}: \\t\\t {} cases, \\t {} deaths, \\t {} population, \\t {:.2f} cases per million capita, \\t {:.2f} deaths per million capita\"\n",
    "                .format(\n",
    "                i,\n",
    "                x, dict[x][\"cases\"],\n",
    "                dict[x][\"deaths\"],\n",
    "                dict[x][\"population\"],\n",
    "                dict[x][\"cases_pmc\"],\n",
    "                dict[x][\"deaths_pmc\"]\n",
    "            ))\n",
    "        i += 1\n",
    "\n",
    "\n",
    "def print2json(dict):\n",
    "    with open(\"../data/dataPerCapita.json\", 'w', encoding='utf-8') as f:\n",
    "        json.dump(dict, f, ensure_ascii=False, indent=4)\n",
    "\n",
    "\n",
    "if __name__ == \"__main__\":\n",
    "    main()\n"
   ]
  },
  {
   "cell_type": "code",
   "execution_count": null,
   "metadata": {},
   "outputs": [],
   "source": []
  }
 ],
 "metadata": {
  "kernelspec": {
   "display_name": "Python 3",
   "language": "python",
   "name": "python3"
  },
  "language_info": {
   "codemirror_mode": {
    "name": "ipython",
    "version": 3
   },
   "file_extension": ".py",
   "mimetype": "text/x-python",
   "name": "python",
   "nbconvert_exporter": "python",
   "pygments_lexer": "ipython3",
   "version": "3.7.6"
  }
 },
 "nbformat": 4,
 "nbformat_minor": 4
}
